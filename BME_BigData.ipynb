{
 "metadata": {
  "name": ""
 },
 "nbformat": 3,
 "nbformat_minor": 0,
 "worksheets": [
  {
   "cells": [
    {
     "cell_type": "markdown",
     "metadata": {},
     "source": [
      "# Dataframe\n",
      "The Dataframe API can be reached via the `sqlContext` variable."
     ]
    },
    {
     "cell_type": "markdown",
     "metadata": {},
     "source": [
      "This a `HiveContext` which is an extended version of `SQLContext` with Hive support."
     ]
    },
    {
     "cell_type": "code",
     "collapsed": false,
     "input": [
      "type(sqlContext)"
     ],
     "language": "python",
     "metadata": {},
     "outputs": [
      {
       "metadata": {},
       "output_type": "pyout",
       "prompt_number": 1,
       "text": [
        "pyspark.sql.context.HiveContext"
       ]
      }
     ],
     "prompt_number": 1
    },
    {
     "cell_type": "code",
     "collapsed": false,
     "input": [
      "df = sqlContext.read.format('com.databricks.spark.csv').options(header='true').load('data/pl.csv')"
     ],
     "language": "python",
     "metadata": {},
     "outputs": [],
     "prompt_number": 2
    },
    {
     "cell_type": "code",
     "collapsed": false,
     "input": [
      "type(df)"
     ],
     "language": "python",
     "metadata": {},
     "outputs": [
      {
       "metadata": {},
       "output_type": "pyout",
       "prompt_number": 3,
       "text": [
        "pyspark.sql.dataframe.DataFrame"
       ]
      }
     ],
     "prompt_number": 3
    },
    {
     "cell_type": "markdown",
     "metadata": {},
     "source": [
      "To check columns call `df.columns`"
     ]
    },
    {
     "cell_type": "code",
     "collapsed": false,
     "input": [
      "df.columns"
     ],
     "language": "python",
     "metadata": {},
     "outputs": [
      {
       "metadata": {},
       "output_type": "pyout",
       "prompt_number": 4,
       "text": [
        "['Div',\n",
        " 'Date',\n",
        " 'HomeTeam',\n",
        " 'AwayTeam',\n",
        " 'FTHG',\n",
        " 'FTAG',\n",
        " 'FTR',\n",
        " 'HTHG',\n",
        " 'HTAG',\n",
        " 'HTR',\n",
        " 'Referee',\n",
        " 'HS',\n",
        " 'AS',\n",
        " 'HST',\n",
        " 'AST',\n",
        " 'HF',\n",
        " 'AF',\n",
        " 'HC',\n",
        " 'AC',\n",
        " 'HY',\n",
        " 'AY',\n",
        " 'HR',\n",
        " 'AR',\n",
        " 'B365H',\n",
        " 'B365D',\n",
        " 'B365A',\n",
        " 'BWH',\n",
        " 'BWD',\n",
        " 'BWA',\n",
        " 'IWH',\n",
        " 'IWD',\n",
        " 'IWA',\n",
        " 'LBH',\n",
        " 'LBD',\n",
        " 'LBA',\n",
        " 'PSH',\n",
        " 'PSD',\n",
        " 'PSA',\n",
        " 'WHH',\n",
        " 'WHD',\n",
        " 'WHA',\n",
        " 'SJH',\n",
        " 'SJD',\n",
        " 'SJA',\n",
        " 'VCH',\n",
        " 'VCD',\n",
        " 'VCA',\n",
        " 'Bb1X2',\n",
        " 'BbMxH',\n",
        " 'BbAvH',\n",
        " 'BbMxD',\n",
        " 'BbAvD',\n",
        " 'BbMxA',\n",
        " 'BbAvA',\n",
        " 'BbOU',\n",
        " 'BbMx>2.5',\n",
        " 'BbAv>2.5',\n",
        " 'BbMx<2.5',\n",
        " 'BbAv<2.5',\n",
        " 'BbAH',\n",
        " 'BbAHh',\n",
        " 'BbMxAHH',\n",
        " 'BbAvAHH',\n",
        " 'BbMxAHA',\n",
        " 'BbAvAHA']"
       ]
      }
     ],
     "prompt_number": 4
    },
    {
     "cell_type": "code",
     "collapsed": false,
     "input": [
      "df.dtypes"
     ],
     "language": "python",
     "metadata": {},
     "outputs": [
      {
       "metadata": {},
       "output_type": "pyout",
       "prompt_number": 34,
       "text": [
        "[('Div', 'string'),\n",
        " ('Date', 'string'),\n",
        " ('HomeTeam', 'string'),\n",
        " ('AwayTeam', 'string'),\n",
        " ('FTHG', 'string'),\n",
        " ('FTAG', 'string'),\n",
        " ('FTR', 'string'),\n",
        " ('HTHG', 'string'),\n",
        " ('HTAG', 'string'),\n",
        " ('HTR', 'string'),\n",
        " ('Referee', 'string'),\n",
        " ('HS', 'string'),\n",
        " ('AS', 'string'),\n",
        " ('HST', 'string'),\n",
        " ('AST', 'string'),\n",
        " ('HF', 'string'),\n",
        " ('AF', 'string'),\n",
        " ('HC', 'string'),\n",
        " ('AC', 'string'),\n",
        " ('HY', 'string'),\n",
        " ('AY', 'string'),\n",
        " ('HR', 'string'),\n",
        " ('AR', 'string'),\n",
        " ('B365H', 'string'),\n",
        " ('B365D', 'string'),\n",
        " ('B365A', 'string'),\n",
        " ('BWH', 'string'),\n",
        " ('BWD', 'string'),\n",
        " ('BWA', 'string'),\n",
        " ('IWH', 'string'),\n",
        " ('IWD', 'string'),\n",
        " ('IWA', 'string'),\n",
        " ('LBH', 'string'),\n",
        " ('LBD', 'string'),\n",
        " ('LBA', 'string'),\n",
        " ('PSH', 'string'),\n",
        " ('PSD', 'string'),\n",
        " ('PSA', 'string'),\n",
        " ('WHH', 'string'),\n",
        " ('WHD', 'string'),\n",
        " ('WHA', 'string'),\n",
        " ('SJH', 'string'),\n",
        " ('SJD', 'string'),\n",
        " ('SJA', 'string'),\n",
        " ('VCH', 'string'),\n",
        " ('VCD', 'string'),\n",
        " ('VCA', 'string'),\n",
        " ('Bb1X2', 'string'),\n",
        " ('BbMxH', 'string'),\n",
        " ('BbAvH', 'string'),\n",
        " ('BbMxD', 'string'),\n",
        " ('BbAvD', 'string'),\n",
        " ('BbMxA', 'string'),\n",
        " ('BbAvA', 'string'),\n",
        " ('BbOU', 'string'),\n",
        " ('BbMx>2.5', 'string'),\n",
        " ('BbAv>2.5', 'string'),\n",
        " ('BbMx<2.5', 'string'),\n",
        " ('BbAv<2.5', 'string'),\n",
        " ('BbAH', 'string'),\n",
        " ('BbAHh', 'string'),\n",
        " ('BbMxAHH', 'string'),\n",
        " ('BbAvAHH', 'string'),\n",
        " ('BbMxAHA', 'string'),\n",
        " ('BbAvAHA', 'string')]"
       ]
      }
     ],
     "prompt_number": 34
    },
    {
     "cell_type": "markdown",
     "metadata": {},
     "source": [
      "Use `select()` to select columns"
     ]
    },
    {
     "cell_type": "code",
     "collapsed": false,
     "input": [
      "df.select(['HomeTeam','AwayTeam','FTHG','FTAG','FTR']).show()"
     ],
     "language": "python",
     "metadata": {},
     "outputs": [
      {
       "output_type": "stream",
       "stream": "stdout",
       "text": [
        "+--------------+--------------+----+----+---+\n",
        "|      HomeTeam|      AwayTeam|FTHG|FTAG|FTR|\n",
        "+--------------+--------------+----+----+---+\n",
        "|       Arsenal|Crystal Palace|   2|   1|  H|\n",
        "|     Leicester|       Everton|   2|   2|  D|\n",
        "|    Man United|       Swansea|   1|   2|  A|\n",
        "|           QPR|          Hull|   0|   1|  A|\n",
        "|         Stoke|   Aston Villa|   0|   1|  A|\n",
        "|     West Brom|    Sunderland|   2|   2|  D|\n",
        "|      West Ham|     Tottenham|   0|   1|  A|\n",
        "|     Liverpool|   Southampton|   2|   1|  H|\n",
        "|     Newcastle|      Man City|   0|   2|  A|\n",
        "|       Burnley|       Chelsea|   1|   3|  A|\n",
        "|   Aston Villa|     Newcastle|   0|   0|  D|\n",
        "|       Chelsea|     Leicester|   2|   0|  H|\n",
        "|Crystal Palace|      West Ham|   1|   3|  A|\n",
        "|       Everton|       Arsenal|   2|   2|  D|\n",
        "|   Southampton|     West Brom|   0|   0|  D|\n",
        "|       Swansea|       Burnley|   1|   0|  H|\n",
        "|          Hull|         Stoke|   1|   1|  D|\n",
        "|    Sunderland|    Man United|   1|   1|  D|\n",
        "|     Tottenham|           QPR|   4|   0|  H|\n",
        "|      Man City|     Liverpool|   3|   1|  H|\n",
        "+--------------+--------------+----+----+---+\n",
        "only showing top 20 rows\n",
        "\n"
       ]
      }
     ],
     "prompt_number": 5
    },
    {
     "cell_type": "code",
     "collapsed": false,
     "input": [
      "df.select(df.columns[1:7]).show()"
     ],
     "language": "python",
     "metadata": {},
     "outputs": [
      {
       "output_type": "stream",
       "stream": "stdout",
       "text": [
        "+--------+--------------+--------------+----+----+---+\n",
        "|    Date|      HomeTeam|      AwayTeam|FTHG|FTAG|FTR|\n",
        "+--------+--------------+--------------+----+----+---+\n",
        "|16/08/14|       Arsenal|Crystal Palace|   2|   1|  H|\n",
        "|16/08/14|     Leicester|       Everton|   2|   2|  D|\n",
        "|16/08/14|    Man United|       Swansea|   1|   2|  A|\n",
        "|16/08/14|           QPR|          Hull|   0|   1|  A|\n",
        "|16/08/14|         Stoke|   Aston Villa|   0|   1|  A|\n",
        "|16/08/14|     West Brom|    Sunderland|   2|   2|  D|\n",
        "|16/08/14|      West Ham|     Tottenham|   0|   1|  A|\n",
        "|17/08/14|     Liverpool|   Southampton|   2|   1|  H|\n",
        "|17/08/14|     Newcastle|      Man City|   0|   2|  A|\n",
        "|18/08/14|       Burnley|       Chelsea|   1|   3|  A|\n",
        "|23/08/14|   Aston Villa|     Newcastle|   0|   0|  D|\n",
        "|23/08/14|       Chelsea|     Leicester|   2|   0|  H|\n",
        "|23/08/14|Crystal Palace|      West Ham|   1|   3|  A|\n",
        "|23/08/14|       Everton|       Arsenal|   2|   2|  D|\n",
        "|23/08/14|   Southampton|     West Brom|   0|   0|  D|\n",
        "|23/08/14|       Swansea|       Burnley|   1|   0|  H|\n",
        "|24/08/14|          Hull|         Stoke|   1|   1|  D|\n",
        "|24/08/14|    Sunderland|    Man United|   1|   1|  D|\n",
        "|24/08/14|     Tottenham|           QPR|   4|   0|  H|\n",
        "|25/08/14|      Man City|     Liverpool|   3|   1|  H|\n",
        "+--------+--------------+--------------+----+----+---+\n",
        "only showing top 20 rows\n",
        "\n"
       ]
      }
     ],
     "prompt_number": 6
    },
    {
     "cell_type": "markdown",
     "metadata": {},
     "source": [
      "`filter` can be used to filter the Dataframe"
     ]
    },
    {
     "cell_type": "code",
     "collapsed": false,
     "input": [
      "df.select(df.columns[1:7]).filter(df['AwayTeam']=='Man United').show()"
     ],
     "language": "python",
     "metadata": {},
     "outputs": [
      {
       "output_type": "stream",
       "stream": "stdout",
       "text": [
        "+--------+--------------+----------+----+----+---+\n",
        "|    Date|      HomeTeam|  AwayTeam|FTHG|FTAG|FTR|\n",
        "+--------+--------------+----------+----+----+---+\n",
        "|24/08/14|    Sunderland|Man United|   1|   1|  D|\n",
        "|30/08/14|       Burnley|Man United|   0|   0|  D|\n",
        "|21/09/14|     Leicester|Man United|   5|   3|  H|\n",
        "|20/10/14|     West Brom|Man United|   2|   2|  D|\n",
        "|02/11/14|      Man City|Man United|   1|   0|  H|\n",
        "|22/11/14|       Arsenal|Man United|   1|   2|  A|\n",
        "|08/12/14|   Southampton|Man United|   1|   2|  A|\n",
        "|20/12/14|   Aston Villa|Man United|   1|   1|  D|\n",
        "|28/12/14|     Tottenham|Man United|   0|   0|  D|\n",
        "|01/01/15|         Stoke|Man United|   1|   1|  D|\n",
        "|17/01/15|           QPR|Man United|   0|   2|  A|\n",
        "|08/02/15|      West Ham|Man United|   1|   1|  D|\n",
        "|21/02/15|       Swansea|Man United|   2|   1|  H|\n",
        "|04/03/15|     Newcastle|Man United|   0|   1|  A|\n",
        "|22/03/15|     Liverpool|Man United|   1|   2|  A|\n",
        "|18/04/15|       Chelsea|Man United|   1|   0|  H|\n",
        "|26/04/15|       Everton|Man United|   3|   0|  H|\n",
        "|09/05/15|Crystal Palace|Man United|   1|   2|  A|\n",
        "|24/05/15|          Hull|Man United|   0|   0|  D|\n",
        "+--------+--------------+----------+----+----+---+\n",
        "\n"
       ]
      }
     ],
     "prompt_number": 7
    },
    {
     "cell_type": "code",
     "collapsed": false,
     "input": [
      "df.select(df.columns[1:7]).filter(df['AwayTeam']=='Man United').groupby('FTR').count().show()"
     ],
     "language": "python",
     "metadata": {},
     "outputs": [
      {
       "output_type": "stream",
       "stream": "stdout",
       "text": [
        "+---+-----+\n",
        "|FTR|count|\n",
        "+---+-----+\n",
        "|  A|    6|\n",
        "|  D|    8|\n",
        "|  H|    5|\n",
        "+---+-----+\n",
        "\n"
       ]
      }
     ],
     "prompt_number": 8
    },
    {
     "cell_type": "markdown",
     "metadata": {},
     "source": [
      "# Spark SQL"
     ]
    },
    {
     "cell_type": "markdown",
     "metadata": {},
     "source": [
      "First we have to register the Dataframe as a table."
     ]
    },
    {
     "cell_type": "code",
     "collapsed": false,
     "input": [
      "df.registerTempTable('PL')"
     ],
     "language": "python",
     "metadata": {},
     "outputs": [],
     "prompt_number": 9
    },
    {
     "cell_type": "markdown",
     "metadata": {},
     "source": [
      "We can query now"
     ]
    },
    {
     "cell_type": "code",
     "collapsed": false,
     "input": [
      "sqlContext.sql('SELECT Date, COUNT(*) FROM PL GROUP BY Date').show()"
     ],
     "language": "python",
     "metadata": {},
     "outputs": [
      {
       "output_type": "stream",
       "stream": "stdout",
       "text": [
        "+--------+---+\n",
        "|    Date|_c1|\n",
        "+--------+---+\n",
        "|17/01/15|  7|\n",
        "|11/02/15|  6|\n",
        "|03/05/15|  2|\n",
        "|18/10/14|  7|\n",
        "|11/01/15|  2|\n",
        "|24/11/14|  1|\n",
        "|18/08/14|  1|\n",
        "|03/03/15|  3|\n",
        "|15/03/15|  3|\n",
        "|30/11/14|  2|\n",
        "|26/04/15|  2|\n",
        "|24/08/14|  3|\n",
        "|20/05/15|  1|\n",
        "|28/12/14|  9|\n",
        "|07/04/15|  1|\n",
        "|30/08/14|  7|\n",
        "|19/04/15|  2|\n",
        "|22/12/14|  1|\n",
        "|18/05/15|  1|\n",
        "|28/09/14|  1|\n",
        "+--------+---+\n",
        "only showing top 20 rows\n",
        "\n"
       ]
      }
     ],
     "prompt_number": 10
    },
    {
     "cell_type": "code",
     "collapsed": false,
     "input": [
      "type(sqlContext.sql('SELECT Date, COUNT(*) FROM PL GROUP BY Date').toPandas())"
     ],
     "language": "python",
     "metadata": {},
     "outputs": [
      {
       "metadata": {},
       "output_type": "pyout",
       "prompt_number": 11,
       "text": [
        "pandas.core.frame.DataFrame"
       ]
      }
     ],
     "prompt_number": 11
    },
    {
     "cell_type": "code",
     "collapsed": false,
     "input": [
      "sqlContext.sql('SELECT FTHG FROM PL WHERE HomeTeam = \"Chelsea\"').show()"
     ],
     "language": "python",
     "metadata": {},
     "outputs": [
      {
       "output_type": "stream",
       "stream": "stdout",
       "text": [
        "+----+\n",
        "|FTHG|\n",
        "+----+\n",
        "|   2|\n",
        "|   4|\n",
        "|   3|\n",
        "|   2|\n",
        "|   2|\n",
        "|   2|\n",
        "|   3|\n",
        "|   2|\n",
        "|   2|\n",
        "|   2|\n",
        "|   1|\n",
        "|   1|\n",
        "|   1|\n",
        "|   1|\n",
        "|   2|\n",
        "|   1|\n",
        "|   1|\n",
        "|   1|\n",
        "|   3|\n",
        "+----+\n",
        "\n"
       ]
      }
     ],
     "prompt_number": 12
    },
    {
     "cell_type": "code",
     "collapsed": false,
     "input": [
      "pandasDF = sqlContext.sql('SELECT FTHG FROM PL WHERE HomeTeam = \"Chelsea\"').toPandas()"
     ],
     "language": "python",
     "metadata": {},
     "outputs": [],
     "prompt_number": 15
    },
    {
     "cell_type": "code",
     "collapsed": false,
     "input": [
      "pandasDF.plot(kind='line')"
     ],
     "language": "python",
     "metadata": {},
     "outputs": [
      {
       "ename": "TypeError",
       "evalue": "Empty 'DataFrame': no numeric data to plot",
       "output_type": "pyerr",
       "traceback": [
        "\u001b[0;31m---------------------------------------------------------------------------\u001b[0m\n\u001b[0;31mTypeError\u001b[0m                                 Traceback (most recent call last)",
        "\u001b[0;32m<ipython-input-17-be18e057c61a>\u001b[0m in \u001b[0;36m<module>\u001b[0;34m()\u001b[0m\n\u001b[0;32m----> 1\u001b[0;31m \u001b[0mpandasDF\u001b[0m\u001b[0;34m.\u001b[0m\u001b[0mplot\u001b[0m\u001b[0;34m(\u001b[0m\u001b[0mkind\u001b[0m\u001b[0;34m=\u001b[0m\u001b[0;34m'line'\u001b[0m\u001b[0;34m)\u001b[0m\u001b[0;34m\u001b[0m\u001b[0m\n\u001b[0m",
        "\u001b[0;32m/usr/local/lib/python2.7/dist-packages/pandas/tools/plotting.pyc\u001b[0m in \u001b[0;36m__call__\u001b[0;34m(self, x, y, kind, ax, subplots, sharex, sharey, layout, figsize, use_index, title, grid, legend, style, logx, logy, loglog, xticks, yticks, xlim, ylim, rot, fontsize, colormap, table, yerr, xerr, secondary_y, sort_columns, **kwds)\u001b[0m\n\u001b[1;32m   3665\u001b[0m                           \u001b[0mfontsize\u001b[0m\u001b[0;34m=\u001b[0m\u001b[0mfontsize\u001b[0m\u001b[0;34m,\u001b[0m \u001b[0mcolormap\u001b[0m\u001b[0;34m=\u001b[0m\u001b[0mcolormap\u001b[0m\u001b[0;34m,\u001b[0m \u001b[0mtable\u001b[0m\u001b[0;34m=\u001b[0m\u001b[0mtable\u001b[0m\u001b[0;34m,\u001b[0m\u001b[0;34m\u001b[0m\u001b[0m\n\u001b[1;32m   3666\u001b[0m                           \u001b[0myerr\u001b[0m\u001b[0;34m=\u001b[0m\u001b[0myerr\u001b[0m\u001b[0;34m,\u001b[0m \u001b[0mxerr\u001b[0m\u001b[0;34m=\u001b[0m\u001b[0mxerr\u001b[0m\u001b[0;34m,\u001b[0m \u001b[0msecondary_y\u001b[0m\u001b[0;34m=\u001b[0m\u001b[0msecondary_y\u001b[0m\u001b[0;34m,\u001b[0m\u001b[0;34m\u001b[0m\u001b[0m\n\u001b[0;32m-> 3667\u001b[0;31m                           sort_columns=sort_columns, **kwds)\n\u001b[0m\u001b[1;32m   3668\u001b[0m     \u001b[0m__call__\u001b[0m\u001b[0;34m.\u001b[0m\u001b[0m__doc__\u001b[0m \u001b[0;34m=\u001b[0m \u001b[0mplot_frame\u001b[0m\u001b[0;34m.\u001b[0m\u001b[0m__doc__\u001b[0m\u001b[0;34m\u001b[0m\u001b[0m\n\u001b[1;32m   3669\u001b[0m \u001b[0;34m\u001b[0m\u001b[0m\n",
        "\u001b[0;32m/usr/local/lib/python2.7/dist-packages/pandas/tools/plotting.pyc\u001b[0m in \u001b[0;36mplot_frame\u001b[0;34m(data, x, y, kind, ax, subplots, sharex, sharey, layout, figsize, use_index, title, grid, legend, style, logx, logy, loglog, xticks, yticks, xlim, ylim, rot, fontsize, colormap, table, yerr, xerr, secondary_y, sort_columns, **kwds)\u001b[0m\n\u001b[1;32m   2550\u001b[0m                  \u001b[0myerr\u001b[0m\u001b[0;34m=\u001b[0m\u001b[0myerr\u001b[0m\u001b[0;34m,\u001b[0m \u001b[0mxerr\u001b[0m\u001b[0;34m=\u001b[0m\u001b[0mxerr\u001b[0m\u001b[0;34m,\u001b[0m\u001b[0;34m\u001b[0m\u001b[0m\n\u001b[1;32m   2551\u001b[0m                  \u001b[0msecondary_y\u001b[0m\u001b[0;34m=\u001b[0m\u001b[0msecondary_y\u001b[0m\u001b[0;34m,\u001b[0m \u001b[0msort_columns\u001b[0m\u001b[0;34m=\u001b[0m\u001b[0msort_columns\u001b[0m\u001b[0;34m,\u001b[0m\u001b[0;34m\u001b[0m\u001b[0m\n\u001b[0;32m-> 2552\u001b[0;31m                  **kwds)\n\u001b[0m\u001b[1;32m   2553\u001b[0m \u001b[0;34m\u001b[0m\u001b[0m\n\u001b[1;32m   2554\u001b[0m \u001b[0;34m\u001b[0m\u001b[0m\n",
        "\u001b[0;32m/usr/local/lib/python2.7/dist-packages/pandas/tools/plotting.pyc\u001b[0m in \u001b[0;36m_plot\u001b[0;34m(data, x, y, subplots, ax, kind, **kwds)\u001b[0m\n\u001b[1;32m   2378\u001b[0m         \u001b[0mplot_obj\u001b[0m \u001b[0;34m=\u001b[0m \u001b[0mklass\u001b[0m\u001b[0;34m(\u001b[0m\u001b[0mdata\u001b[0m\u001b[0;34m,\u001b[0m \u001b[0msubplots\u001b[0m\u001b[0;34m=\u001b[0m\u001b[0msubplots\u001b[0m\u001b[0;34m,\u001b[0m \u001b[0max\u001b[0m\u001b[0;34m=\u001b[0m\u001b[0max\u001b[0m\u001b[0;34m,\u001b[0m \u001b[0mkind\u001b[0m\u001b[0;34m=\u001b[0m\u001b[0mkind\u001b[0m\u001b[0;34m,\u001b[0m \u001b[0;34m**\u001b[0m\u001b[0mkwds\u001b[0m\u001b[0;34m)\u001b[0m\u001b[0;34m\u001b[0m\u001b[0m\n\u001b[1;32m   2379\u001b[0m \u001b[0;34m\u001b[0m\u001b[0m\n\u001b[0;32m-> 2380\u001b[0;31m     \u001b[0mplot_obj\u001b[0m\u001b[0;34m.\u001b[0m\u001b[0mgenerate\u001b[0m\u001b[0;34m(\u001b[0m\u001b[0;34m)\u001b[0m\u001b[0;34m\u001b[0m\u001b[0m\n\u001b[0m\u001b[1;32m   2381\u001b[0m     \u001b[0mplot_obj\u001b[0m\u001b[0;34m.\u001b[0m\u001b[0mdraw\u001b[0m\u001b[0;34m(\u001b[0m\u001b[0;34m)\u001b[0m\u001b[0;34m\u001b[0m\u001b[0m\n\u001b[1;32m   2382\u001b[0m     \u001b[0;32mreturn\u001b[0m \u001b[0mplot_obj\u001b[0m\u001b[0;34m.\u001b[0m\u001b[0mresult\u001b[0m\u001b[0;34m\u001b[0m\u001b[0m\n",
        "\u001b[0;32m/usr/local/lib/python2.7/dist-packages/pandas/tools/plotting.pyc\u001b[0m in \u001b[0;36mgenerate\u001b[0;34m(self)\u001b[0m\n\u001b[1;32m    981\u001b[0m     \u001b[0;32mdef\u001b[0m \u001b[0mgenerate\u001b[0m\u001b[0;34m(\u001b[0m\u001b[0mself\u001b[0m\u001b[0;34m)\u001b[0m\u001b[0;34m:\u001b[0m\u001b[0;34m\u001b[0m\u001b[0m\n\u001b[1;32m    982\u001b[0m         \u001b[0mself\u001b[0m\u001b[0;34m.\u001b[0m\u001b[0m_args_adjust\u001b[0m\u001b[0;34m(\u001b[0m\u001b[0;34m)\u001b[0m\u001b[0;34m\u001b[0m\u001b[0m\n\u001b[0;32m--> 983\u001b[0;31m         \u001b[0mself\u001b[0m\u001b[0;34m.\u001b[0m\u001b[0m_compute_plot_data\u001b[0m\u001b[0;34m(\u001b[0m\u001b[0;34m)\u001b[0m\u001b[0;34m\u001b[0m\u001b[0m\n\u001b[0m\u001b[1;32m    984\u001b[0m         \u001b[0mself\u001b[0m\u001b[0;34m.\u001b[0m\u001b[0m_setup_subplots\u001b[0m\u001b[0;34m(\u001b[0m\u001b[0;34m)\u001b[0m\u001b[0;34m\u001b[0m\u001b[0m\n\u001b[1;32m    985\u001b[0m         \u001b[0mself\u001b[0m\u001b[0;34m.\u001b[0m\u001b[0m_make_plot\u001b[0m\u001b[0;34m(\u001b[0m\u001b[0;34m)\u001b[0m\u001b[0;34m\u001b[0m\u001b[0m\n",
        "\u001b[0;32m/usr/local/lib/python2.7/dist-packages/pandas/tools/plotting.pyc\u001b[0m in \u001b[0;36m_compute_plot_data\u001b[0;34m(self)\u001b[0m\n\u001b[1;32m   1090\u001b[0m         \u001b[0;32mif\u001b[0m \u001b[0mis_empty\u001b[0m\u001b[0;34m:\u001b[0m\u001b[0;34m\u001b[0m\u001b[0m\n\u001b[1;32m   1091\u001b[0m             raise TypeError('Empty {0!r}: no numeric data to '\n\u001b[0;32m-> 1092\u001b[0;31m                             'plot'.format(numeric_data.__class__.__name__))\n\u001b[0m\u001b[1;32m   1093\u001b[0m \u001b[0;34m\u001b[0m\u001b[0m\n\u001b[1;32m   1094\u001b[0m         \u001b[0mself\u001b[0m\u001b[0;34m.\u001b[0m\u001b[0mdata\u001b[0m \u001b[0;34m=\u001b[0m \u001b[0mnumeric_data\u001b[0m\u001b[0;34m\u001b[0m\u001b[0m\n",
        "\u001b[0;31mTypeError\u001b[0m: Empty 'DataFrame': no numeric data to plot"
       ]
      }
     ],
     "prompt_number": 17
    },
    {
     "cell_type": "code",
     "collapsed": false,
     "input": [
      "pandasDF['G']=pandasDF['FTHG'].astype(int)"
     ],
     "language": "python",
     "metadata": {},
     "outputs": [],
     "prompt_number": 20
    },
    {
     "cell_type": "code",
     "collapsed": false,
     "input": [
      "pandasDF.drop('FTHG', axis=1).plot(kind='bar')"
     ],
     "language": "python",
     "metadata": {},
     "outputs": [
      {
       "metadata": {},
       "output_type": "pyout",
       "prompt_number": 30,
       "text": [
        "<matplotlib.axes.AxesSubplot at 0x7f3d6ff679d0>"
       ]
      }
     ],
     "prompt_number": 30
    },
    {
     "cell_type": "code",
     "collapsed": false,
     "input": [
      "import matplotlib.pyplot as plt"
     ],
     "language": "python",
     "metadata": {},
     "outputs": [],
     "prompt_number": 28
    },
    {
     "cell_type": "code",
     "collapsed": false,
     "input": [
      "plt.show()"
     ],
     "language": "python",
     "metadata": {},
     "outputs": [],
     "prompt_number": 32
    }
   ],
   "metadata": {}
  }
 ]
}